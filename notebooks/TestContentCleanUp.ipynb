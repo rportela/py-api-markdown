{
 "cells": [
  {
   "cell_type": "markdown",
   "id": "c4c64a49",
   "metadata": {},
   "source": [
    "# Content Clean Up"
   ]
  },
  {
   "cell_type": "code",
   "execution_count": 4,
   "id": "8d83ba7b",
   "metadata": {},
   "outputs": [
    {
     "name": "stderr",
     "output_type": "stream",
     "text": [
      "/home/rportela/github/rportela/py-api-markdown/.venv/lib/python3.11/site-packages/pydub/utils.py:170: RuntimeWarning: Couldn't find ffmpeg or avconv - defaulting to ffmpeg, but may not work\n",
      "  warn(\"Couldn't find ffmpeg or avconv - defaulting to ffmpeg, but may not work\", RuntimeWarning)\n"
     ]
    }
   ],
   "source": [
    "from app.repositories.LocalFolderRepo import LocalFolderRepo\n",
    "from app.repositories.HashedContentStorage import HashedContentStorage, HashedContentStatus\n",
    "from app.services.ContentService import ContentService\n",
    "\n",
    "local_folder = LocalFolderRepo(\"./hashed_files\")\n",
    "hashed_content_storage = HashedContentStorage(local_folder)\n",
    "content_service = ContentService(hashed_content_storage)"
   ]
  },
  {
   "cell_type": "code",
   "execution_count": 6,
   "id": "9ddb1941",
   "metadata": {},
   "outputs": [
    {
     "name": "stdout",
     "output_type": "stream",
     "text": [
      "30554\n"
     ]
    }
   ],
   "source": [
    "hash = '4c1299d6bb20b61c4594292009d5aad77bdee147273a71cdd8616a2696f2218d'\n",
    "raw_md = content_service.get_markdown(hash)\n",
    "print(len(raw_md))"
   ]
  },
  {
   "cell_type": "code",
   "execution_count": null,
   "id": "fa051ccd",
   "metadata": {},
   "outputs": [
    {
     "name": "stdout",
     "output_type": "stream",
     "text": [
      "1375\n",
      "1684\n",
      "228\n",
      "1977\n",
      "673\n",
      "713\n",
      "640\n",
      "1848\n",
      "1553\n",
      "324\n"
     ]
    }
   ],
   "source": [
    "from __future__ import annotations\n",
    "import re, pathlib, textwrap\n",
    "from typing import List\n",
    "\n",
    "###############################################################################\n",
    "# 1.  Basic clean -------------------------------------------------------------\n",
    "###############################################################################\n",
    "\n",
    "\n",
    "def clean(md: str) -> str:\n",
    "    md = md.replace(\"\\f\", \"\\n\")  # page breaks\n",
    "    md = md.replace(\"\\u00a0\", \" \")  # NB-spaces\n",
    "    # merge multiple blank lines → exactly one\n",
    "    md = re.sub(r\"\\n{2,}\", \"\\n\\n\", md)\n",
    "    return md.strip()\n",
    "\n",
    "\n",
    "md = clean(raw_md)\n",
    "\n",
    "###############################################################################\n",
    "# 2.  Paragraph-level segmentation -------------------------------------------\n",
    "###############################################################################\n",
    "\n",
    "paragraphs: List[str] = [p.strip() for p in md.split(\"\\n\\n\") if p.strip()]\n",
    "\n",
    "###############################################################################\n",
    "# 3A.  Helper heuristics ------------------------------------------------------\n",
    "###############################################################################\n",
    "\n",
    "LEGAL_TRIGGERS = re.compile(\n",
    "    r\"\\b(disclaimer|DBS accepts no liability|regulatory disclosure|restrictions on distribution)\\b\",\n",
    "    re.I,\n",
    ")\n",
    "NUMBERISH = re.compile(r\"[0-9]\")\n",
    "TABLE_LINE_RE = re.compile(r\"\\s{2,}|[|]\")\n",
    "\n",
    "CONTENT_KEYWORDS = re.compile(\n",
    "    r\"\\b(deliver(y|ies)|margin|revenue|eps|valuation|target price|risks?|outlook|overview|cash ?flow|ebit(?:da)?)\\b\",\n",
    "    re.I,\n",
    ")\n",
    "\n",
    "\n",
    "def is_legal(p: str) -> bool:\n",
    "    return bool(LEGAL_TRIGGERS.search(p)) or p.lower().startswith(\n",
    "        \"gener(al)? disclosure\"\n",
    "    )\n",
    "\n",
    "\n",
    "def looks_like_table(p: str) -> bool:\n",
    "    lines = p.splitlines()\n",
    "    tableish = sum(1 for ln in lines if TABLE_LINE_RE.search(ln))\n",
    "    digitish = sum(1 for ln in lines if len(NUMBERISH.findall(ln)) > len(ln) * 0.3)\n",
    "    return (tableish >= len(lines) / 2) or (digitish >= len(lines) / 2)\n",
    "\n",
    "\n",
    "def is_content(p: str) -> bool:\n",
    "    words = p.split()\n",
    "    if len(words) < 25:  # too short\n",
    "        return False\n",
    "    letters = sum(ch.isalpha() for ch in p)\n",
    "    digits = sum(ch.isdigit() for ch in p)\n",
    "    if digits > letters:  # mostly numbers\n",
    "        return False\n",
    "    return bool(CONTENT_KEYWORDS.search(p)) or len(words) > 40\n",
    "\n",
    "\n",
    "###############################################################################\n",
    "# 3B.  Classify every paragraph ----------------------------------------------\n",
    "###############################################################################\n",
    "\n",
    "labels = []\n",
    "for p in paragraphs:\n",
    "    if is_legal(p) or looks_like_table(p):\n",
    "        labels.append(\"junk\")\n",
    "    elif is_content(p):\n",
    "        labels.append(\"keep\")\n",
    "    else:\n",
    "        labels.append(\"maybe\")  # fallback bucket\n",
    "\n",
    "###############################################################################\n",
    "# 4.  Stitch neighbouring “keep” paras into bigger chunks ---------------------\n",
    "###############################################################################\n",
    "\n",
    "MAX_WORDS = 300  # change if you like\n",
    "chunks, buf, count = [], [], 0\n",
    "for p, lab in zip(paragraphs, labels):\n",
    "    if lab == \"keep\":\n",
    "        w = len(p.split())\n",
    "        if count + w > MAX_WORDS and buf:\n",
    "            chunks.append(\"\\n\\n\".join(buf))\n",
    "            buf, count = [], 0\n",
    "        buf.append(p)\n",
    "        count += w\n",
    "    else:\n",
    "        if buf:\n",
    "            chunks.append(\"\\n\\n\".join(buf))\n",
    "            buf, count = [], 0\n",
    "# flush tail\n",
    "if buf:\n",
    "    chunks.append(\"\\n\\n\".join(buf))\n",
    "\n",
    "for c in chunks:\n",
    "    print(len(c))"
   ]
  }
 ],
 "metadata": {
  "kernelspec": {
   "display_name": ".venv",
   "language": "python",
   "name": "python3"
  },
  "language_info": {
   "codemirror_mode": {
    "name": "ipython",
    "version": 3
   },
   "file_extension": ".py",
   "mimetype": "text/x-python",
   "name": "python",
   "nbconvert_exporter": "python",
   "pygments_lexer": "ipython3",
   "version": "3.11.12"
  }
 },
 "nbformat": 4,
 "nbformat_minor": 5
}
