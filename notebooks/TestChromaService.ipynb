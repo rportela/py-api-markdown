{
 "cells": [
  {
   "cell_type": "markdown",
   "id": "fa77bc50",
   "metadata": {},
   "source": [
    "# Test Chroma Service"
   ]
  },
  {
   "cell_type": "code",
   "execution_count": 1,
   "id": "01ce7aef",
   "metadata": {},
   "outputs": [],
   "source": [
    "from app.services.ChromaService import ChromaService\n",
    "\n",
    "service = ChromaService()"
   ]
  },
  {
   "cell_type": "markdown",
   "id": "80f42873",
   "metadata": {},
   "source": [
    "## List the collections"
   ]
  },
  {
   "cell_type": "code",
   "execution_count": 4,
   "id": "fbb5a5b4",
   "metadata": {},
   "outputs": [
    {
     "name": "stdout",
     "output_type": "stream",
     "text": [
      "Collections:\n",
      " - test\n"
     ]
    }
   ],
   "source": [
    "cols = service.list_collections()\n",
    "\n",
    "print(\"Collections:\")\n",
    "for col in cols:\n",
    "    print(f\" - {col}\")"
   ]
  },
  {
   "cell_type": "markdown",
   "id": "a941f652",
   "metadata": {},
   "source": [
    "## Create a collection"
   ]
  },
  {
   "cell_type": "code",
   "execution_count": 3,
   "id": "e004f950",
   "metadata": {},
   "outputs": [
    {
     "data": {
      "text/plain": [
       "{'name': 'test'}"
      ]
     },
     "execution_count": 3,
     "metadata": {},
     "output_type": "execute_result"
    }
   ],
   "source": [
    "test_collection = service.create_collection(\"test\")\n",
    "test_collection"
   ]
  },
  {
   "cell_type": "markdown",
   "id": "f0bde23d",
   "metadata": {},
   "source": [
    "## Add Chunks"
   ]
  },
  {
   "cell_type": "code",
   "execution_count": null,
   "id": "0c1ed4c5",
   "metadata": {},
   "outputs": [],
   "source": []
  }
 ],
 "metadata": {
  "kernelspec": {
   "display_name": ".venv",
   "language": "python",
   "name": "python3"
  },
  "language_info": {
   "codemirror_mode": {
    "name": "ipython",
    "version": 3
   },
   "file_extension": ".py",
   "mimetype": "text/x-python",
   "name": "python",
   "nbconvert_exporter": "python",
   "pygments_lexer": "ipython3",
   "version": "3.11.12"
  }
 },
 "nbformat": 4,
 "nbformat_minor": 5
}
